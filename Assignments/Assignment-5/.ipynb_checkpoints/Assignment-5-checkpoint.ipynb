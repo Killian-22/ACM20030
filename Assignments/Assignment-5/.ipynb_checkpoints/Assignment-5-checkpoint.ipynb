{
 "cells": [
  {
   "cell_type": "markdown",
   "metadata": {},
   "source": [
    "#  Assignment 5\n",
    "\n",
    "This assignment covers material on matrices, norms, condition numbers and eigensystems. The assignment is due by 5pm on Friday the 17th of April.\n",
    "\n",
    "The breakdown of the marks is as follows:\n",
    "\n",
    "Question 0 - [1 mark]  \n",
    "Question 1 - [7 marks]  \n",
    "Questino 2 - [6 marks]  \n",
    "Question 3 - [7 marks]  \n",
    "Question 4 - [9 marks]  "
   ]
  },
  {
   "cell_type": "markdown",
   "metadata": {},
   "source": [
    "# Question 0\n",
    "\n",
    "You should have saved this notebook to your ACM20030-Assignments folder. Now:\n",
    "- commit the notebook to your local repository\n",
    "- push the changes to the GitHub"
   ]
  },
  {
   "cell_type": "code",
   "execution_count": 2,
   "metadata": {},
   "outputs": [],
   "source": [
    "import numpy as np\n",
    "import numpy.linalg as npla\n",
    "np.set_printoptions(linewidth=200)  # This stops line wrapping of larger matrices"
   ]
  },
  {
   "cell_type": "markdown",
   "metadata": {},
   "source": [
    "# Question 1 - practice manipulating arrays\n",
    "\n",
    "This questions asks you write a few functions for manipulating arrays of data"
   ]
  },
  {
   "cell_type": "markdown",
   "metadata": {},
   "source": [
    "## Q1 a\n",
    "\n",
    "Write a function that checks if a given $n\\times n$ matrix is symmetric. Use only loops and `.shape` function from numpy (do not use any other special numpy functions)."
   ]
  },
  {
   "cell_type": "code",
   "execution_count": 26,
   "metadata": {},
   "outputs": [],
   "source": [
    "# I defined the below function so that I could work with the np.matrix data type as well, which, \n",
    "# despite SciPy documentation saying otherwise, I think is a particularly good data type for \n",
    "# making code more compact. For instance, if M is of type np.matrix, we can find its inverse simply\n",
    "# by inputting the command 'A**-1'. I will try my best to make all of the algorithms in this \n",
    "# assignment to work for both ndarray and np.matrix data types.\n",
    "\n",
    "def npArrayType(A): \n",
    "    if (isinstance(A,np.ndarray)==False):\n",
    "        print(\"Your object must have array-like structure\")\n",
    "        return None\n",
    "    if (isinstance(A,np.matrix)):\n",
    "        return 'matrix'\n",
    "    else: \n",
    "        return 'ndarray'\n",
    "\n",
    "def IsSymmetric(M):\n",
    "    M_rows, M_cols = M.shape[0], M.shape[1]\n",
    "    for i in range(0,M_rows):\n",
    "        for j in range(0,M_cols):\n",
    "            if(M[i,j] != M[j,i]):\n",
    "                return False\n",
    "    return True"
   ]
  },
  {
   "cell_type": "markdown",
   "metadata": {},
   "source": [
    "Test your function on the two matrices below"
   ]
  },
  {
   "cell_type": "code",
   "execution_count": 3,
   "metadata": {},
   "outputs": [],
   "source": [
    "A = np.random.rand(5,5)\n",
    "SymMatrix = (A + A.T)/2 "
   ]
  },
  {
   "cell_type": "code",
   "execution_count": 4,
   "metadata": {},
   "outputs": [
    {
     "data": {
      "text/plain": [
       "False"
      ]
     },
     "execution_count": 4,
     "metadata": {},
     "output_type": "execute_result"
    }
   ],
   "source": [
    "IsSymmetric(A)"
   ]
  },
  {
   "cell_type": "code",
   "execution_count": 5,
   "metadata": {},
   "outputs": [
    {
     "data": {
      "text/plain": [
       "True"
      ]
     },
     "execution_count": 5,
     "metadata": {},
     "output_type": "execute_result"
    }
   ],
   "source": [
    "IsSymmetric(SymMatrix)"
   ]
  },
  {
   "cell_type": "code",
   "execution_count": 45,
   "metadata": {},
   "outputs": [
    {
     "data": {
      "text/plain": [
       "True"
      ]
     },
     "execution_count": 45,
     "metadata": {},
     "output_type": "execute_result"
    }
   ],
   "source": [
    "IsSymmetric(np.matrix([[1,2],[2,1]]))"
   ]
  },
  {
   "cell_type": "markdown",
   "metadata": {},
   "source": [
    "## Q1 b\n",
    "\n",
    "Write a function to transpose a general $n\\times n$ matrix. Do this by writing loops and not using any special functions like `np.transpose()`, `A.T`, or any functions from any other library."
   ]
  },
  {
   "cell_type": "code",
   "execution_count": 6,
   "metadata": {},
   "outputs": [],
   "source": [
    "def Transpose(M): #This function works for both np.ndarray and np.matrix data types.\n",
    "    M_rows, M_cols = M.shape[0], M.shape[1]\n",
    "    MT=np.empty(shape=(M_rows,M_cols)) # creating an empty ndarray\n",
    "    for i in range(0,M_rows):\n",
    "        for j in range(0,M_cols):\n",
    "            MT[i,j]=M[j,i]\n",
    "    #returning an object of the same type as M.\n",
    "    if (npArrayType(M)=='ndarray'):\n",
    "        return MT\n",
    "    if (npArrayType(M)=='matrix'):\n",
    "        return np.matrix(MT)\n"
   ]
  },
  {
   "cell_type": "markdown",
   "metadata": {},
   "source": [
    "Check your code by transposing the below random matrix and checking that $A^T \\neq A$ and $(A^T)^T - A = 0$"
   ]
  },
  {
   "cell_type": "code",
   "execution_count": 7,
   "metadata": {
    "scrolled": false
   },
   "outputs": [
    {
     "name": "stdout",
     "output_type": "stream",
     "text": [
      "[[ True False False False False False]\n",
      " [False  True False False False False]\n",
      " [False False  True False False False]\n",
      " [False False False  True False False]\n",
      " [False False False False  True False]\n",
      " [False False False False False  True]]\n",
      "[[ True  True  True  True  True  True]\n",
      " [ True  True  True  True  True  True]\n",
      " [ True  True  True  True  True  True]\n",
      " [ True  True  True  True  True  True]\n",
      " [ True  True  True  True  True  True]\n",
      " [ True  True  True  True  True  True]]\n"
     ]
    }
   ],
   "source": [
    "A = np.random.rand(6,6)\n",
    "AT=Transpose(A)\n",
    "ATT = Transpose(Transpose(A))\n",
    "print(A==AT)\n",
    "print(ATT - A == 0)"
   ]
  },
  {
   "cell_type": "code",
   "execution_count": 8,
   "metadata": {},
   "outputs": [
    {
     "name": "stdout",
     "output_type": "stream",
     "text": [
      "False\n",
      "True\n"
     ]
    }
   ],
   "source": [
    "#Cute. Let's try this instead:\n",
    "A\n",
    "is_A_symmetric = True\n",
    "is_ATT_minus_A_zero = True\n",
    "for i in range(0,A.shape[0]):\n",
    "    for j in range(0,A.shape[1]):\n",
    "        if (A[i,j]!=AT[i,j]):\n",
    "            is_A_symmetric = False\n",
    "            break\n",
    "for i in range(0,A.shape[0]):\n",
    "    for j in range(0,A.shape[1]):\n",
    "        if (A[i,j]!=ATT[i,j]):\n",
    "            is_ATT_minus_A_zero = False\n",
    "            break\n",
    "print(str(is_A_symmetric))\n",
    "print(str(is_ATT_minus_A_zero))"
   ]
  },
  {
   "cell_type": "markdown",
   "metadata": {},
   "source": [
    "## Q1c\n",
    "\n",
    "Write a function that finds the maximum entry in a matrix (where the matrix does not need to be square). Do this by writing loops and not using any special functions like `np.max` or any functions from any other library."
   ]
  },
  {
   "cell_type": "code",
   "execution_count": 9,
   "metadata": {},
   "outputs": [],
   "source": [
    "def MaxEntry(M):\n",
    "    M_rows, M_cols = M.shape[0], M.shape[1]\n",
    "    max_value = M[0,0]\n",
    "    for i in range(0,M_rows):\n",
    "        for j in range(0,M_cols):\n",
    "            if (M[i,j]>max_value):\n",
    "                max_value = M[i,j]\n",
    "    return max_value"
   ]
  },
  {
   "cell_type": "markdown",
   "metadata": {},
   "source": [
    "Check your result by comparing to `np.max(A)` for the below random matrix"
   ]
  },
  {
   "cell_type": "code",
   "execution_count": 10,
   "metadata": {},
   "outputs": [
    {
     "name": "stdout",
     "output_type": "stream",
     "text": [
      "0.9163360582908892\n",
      "0.9163360582908892\n"
     ]
    }
   ],
   "source": [
    "A = np.random.rand(4,5)\n",
    "print(str(MaxEntry(A)))\n",
    "print(str(np.max(A)))"
   ]
  },
  {
   "cell_type": "markdown",
   "metadata": {},
   "source": [
    "# Question 2:  matrix norms\n",
    "\n",
    "In the lectures we focused on the $L^2$-norm. We also briefly mentioned the $L^1$ and $L^\\infty$ norm. Let's look at calculating those as well for a general $m\\times n$ matrix."
   ]
  },
  {
   "cell_type": "markdown",
   "metadata": {},
   "source": [
    "# Q2a\n",
    "\n",
    "The $L^1$ norm is given by\n",
    "\n",
    "$$ \\lVert A \\rVert_1 = \\max_j \\sum^m_{i=1} |a_{ij}| $$\n",
    "\n",
    "i.e., it is the max of the sums of the absolute values of each column. Write a function that computes the $L^1$-norm using only loops. The function should use no special numpy functions except `np.abs()`."
   ]
  },
  {
   "cell_type": "code",
   "execution_count": 11,
   "metadata": {},
   "outputs": [],
   "source": [
    "def L1Norm(M):\n",
    "    M_rows, M_cols = M.shape[0], M.shape[1]\n",
    "    max_col_sum = 0\n",
    "    col_sum = 0\n",
    "    for j in range(0,M_cols):\n",
    "        col_sum = 0\n",
    "        for i in range(0,M_rows):\n",
    "            col_sum += np.abs(M[i,j])\n",
    "        if (col_sum > max_col_sum):\n",
    "            max_col_sum = col_sum\n",
    "    return max_col_sum"
   ]
  },
  {
   "cell_type": "markdown",
   "metadata": {},
   "source": [
    "Check your result against NumPy's `la.norm(A,1)` function for the following random matrix"
   ]
  },
  {
   "cell_type": "code",
   "execution_count": 12,
   "metadata": {},
   "outputs": [
    {
     "name": "stdout",
     "output_type": "stream",
     "text": [
      "[[0.38129788 0.60504159 0.53532538 0.37106419]\n",
      " [0.45827697 0.78741438 0.14659606 0.11003849]\n",
      " [0.41086095 0.17366145 0.29507765 0.97980415]]\n",
      "\n",
      "1.566117415158407\n",
      "1.566117415158407\n"
     ]
    }
   ],
   "source": [
    "A = np.random.rand(3,4)\n",
    "print(str(A) + '\\n')\n",
    "print(npla.norm(A,1))\n",
    "print(L1Norm(A))"
   ]
  },
  {
   "cell_type": "markdown",
   "metadata": {},
   "source": [
    "## Q2b\n",
    "\n",
    "The $L^\\infty$ norm is given by \n",
    "\n",
    "$$\\lVert A \\rVert_\\infty = \\max_i \\sum_{j=1}^n |a_{ij}|$$\n",
    "\n",
    "i.e., it is the max of the sums of the absolute values of each row. Write a function that computes the $L^\\infty$-norm using only loops and no special numpy functions."
   ]
  },
  {
   "cell_type": "code",
   "execution_count": 13,
   "metadata": {},
   "outputs": [],
   "source": [
    "def LinfNorm(M):\n",
    "    M_rows, M_cols = M.shape[0], M.shape[1]\n",
    "    max_row_sum = 0\n",
    "    row_sum = 0\n",
    "    for i in range(0,M_rows):\n",
    "        row_sum = 0\n",
    "        for j in range(0,M_cols):\n",
    "            row_sum += np.abs(M[i,j])\n",
    "        if (row_sum > max_row_sum):\n",
    "            max_row_sum = row_sum\n",
    "    return max_row_sum"
   ]
  },
  {
   "cell_type": "markdown",
   "metadata": {},
   "source": [
    "Check your result against NumPy's `la.norm(A,np.inf)` function for the following random matrix"
   ]
  },
  {
   "cell_type": "code",
   "execution_count": 14,
   "metadata": {},
   "outputs": [
    {
     "name": "stdout",
     "output_type": "stream",
     "text": [
      "[[0.46730742 0.06828454 0.74299191 0.15738715]\n",
      " [0.84564468 0.65348979 0.40710285 0.38181837]\n",
      " [0.33734284 0.62540494 0.65453644 0.35570567]]\n",
      "\n",
      "2.288055702007112\n",
      "2.288055702007112\n"
     ]
    }
   ],
   "source": [
    "A = np.random.rand(3,4)\n",
    "print(str(A) + '\\n')\n",
    "print(npla.norm(A,np.inf))\n",
    "print(LinfNorm(A))"
   ]
  },
  {
   "cell_type": "markdown",
   "metadata": {},
   "source": [
    "# Question 3: ill-conditions systems of equations\n",
    "\n",
    "In this question you can use any of NumPy's functions.\n",
    "\n",
    "## Q3a\n",
    "\n",
    "Which of the following three matrices, $A1, A2, A3$, are ill-conditioned. State the reason for your conclusion."
   ]
  },
  {
   "cell_type": "code",
   "execution_count": 15,
   "metadata": {},
   "outputs": [],
   "source": [
    "A1 = np.matrix([[0.988746460106, 0.351486109477, 0.024911477532, 0.384039749683],\n",
    "       [0.282104657306, 0.239884151775, 0.36170151991 , 0.903082266861],\n",
    "       [0.59333290915 , 0.637178863968, 0.241229214635, 0.685595037901],\n",
    "       [0.013591747828, 0.917926970364, 0.458689093885, 0.157821121254]])\n",
    "\n",
    "A2 = np.matrix([[ 2.852416473483e-01,  3.803483118694e-01,  2.697704226632e-01,  6.810611849029e-01],\n",
    "       [ 6.622827828376e-01,  6.447943415836e-01,  4.387842058829e-01,  1.530575702376e+00],\n",
    "       [ 3.672130860703e-01,  8.309522079704e-01,  9.975487474007e-01,  5.678296337101e-01],\n",
    "       [ 4.036490000599e-01,  6.865978225967e-06,  8.788095913773e-01, -7.150472427928e-02]])\n",
    "\n",
    "A3 = np.matrix([[0.131923621844, 0.245316154195, 0.732362341613, 0.957047891764],\n",
    "       [0.91290446184 , 0.512312007959, 0.391938831444, 0.092509684772],\n",
    "       [0.648708523652, 0.608576675797, 0.576773587276, 0.065385122929],\n",
    "       [0.502955480393, 0.084082960221, 0.659487390444, 0.662958739412]])"
   ]
  },
  {
   "cell_type": "code",
   "execution_count": 16,
   "metadata": {},
   "outputs": [],
   "source": [
    "def ConditionNumber(M):\n",
    "    if (npArrayType(M)!='matrix'):\n",
    "        print(\"The argument must be of the class numpy.matrix\")\n",
    "        return None\n",
    "    return (npla.norm(M,2) * npla.norm(M**-1,2))"
   ]
  },
  {
   "cell_type": "markdown",
   "metadata": {},
   "source": [
    "Let's consider the system $\\displaystyle \\underline{\\underline{A}} \\ \\underline{x} =\\underline{b}$ where $A\\in \\mathbb{R}^{n\\times n}$, $\\underline{x} ,\\underline{b} \\in \\mathbb{R}^{n}$. Suppse given some $\\underline{\\underline{A}}$ and some $\\underline{b}$ we wish to compute $\\underline{x}$. We know that if we have some error $\\delta \\underline{b}$ in $\\underline{b}$ this will translate to a corresponding error $\\delta \\underline{x}$ in $\\underline{x}$. Furthermore we know the two are related as follows: \n",
    "$$\\frac{\\| \\delta \\underline{x} \\| _{2}}{\\| \\underline{x} \\| _{2}} \\leq \\kappa \\left(\\underline{\\underline{A}}\\right)\\left(\\frac{\\| \\delta \\underline{b} \\| _{2}}{\\| \\underline{b} \\| _{2}}\\right)$$\n",
    "However I will rewrite this as $\\varepsilon _{x} \\leq \\kappa \\left(\\underline{\\underline{A}}\\right) \\varepsilon _{b}$. With this in mind, I will call a matrix $\\underline{\\underline{A}}$ \"ill conditioned\" if some proportional error $\\varepsilon _{b}$ in $\\underline{b}$ corresponds to a proportional error $\\varepsilon _{x}$ in $\\underline{x}$ that can be as much as 100 times larger; i.e, if $\\kappa \\left(\\underline{\\underline{A}}\\right) \\geq 100$."
   ]
  },
  {
   "cell_type": "code",
   "execution_count": 17,
   "metadata": {},
   "outputs": [
    {
     "name": "stdout",
     "output_type": "stream",
     "text": [
      "The condition number of A1 is 21.55246648838186\n",
      "The condition number of A2 is 13334923332.407896\n",
      "The condition number of A3 is 15.122449699410625\n",
      "We see that the matrix A2 is ill-conditioned.\n"
     ]
    }
   ],
   "source": [
    "kappa1, kappa2, kappa3 = ConditionNumber(A1), ConditionNumber(A2), ConditionNumber(A3)\n",
    "print(\"The condition number of A1 is \" + str(kappa1))\n",
    "print(\"The condition number of A2 is \" + str(kappa2))\n",
    "print(\"The condition number of A3 is \" + str(kappa3))\n",
    "print(\"We see that the matrix A2 is ill-conditioned.\")"
   ]
  },
  {
   "cell_type": "markdown",
   "metadata": {},
   "source": [
    "# Q3b\n",
    "\n",
    "With $b = [1,2,3,4]$ and $\\delta b = [0.1,0,0,0]$ for $A2$ and $A3$ calculate the percentage change in $x$ due to a small change in $b$, i.e., calculate \n",
    "\n",
    "$$100\\times\\frac{\\lVert \\delta x_i\\rVert_2}{\\lVert x_i \\rVert_2}\\quad\\text{and}\\quad 100\\times\\frac{\\lVert \\delta b\\rVert_2}{\\lVert b \\rVert_2}$$\n",
    "\n",
    "where $(x_i+\\delta x_i)  = A_i^{-1}(b+\\delta b)$ and $i\\in\\{2,3\\}$."
   ]
  },
  {
   "cell_type": "code",
   "execution_count": 18,
   "metadata": {},
   "outputs": [
    {
     "name": "stdout",
     "output_type": "stream",
     "text": [
      "The percentage error in b is 1.826%.\n",
      "In the second system, this corresponds to a percentage error in x of 512.621%.\n",
      "In the third system, this corresponds to a percentage error in x of 2.174%.\n"
     ]
    }
   ],
   "source": [
    "b = np.matrix([1,2,3,4])\n",
    "db = np.matrix([0.1,0,0,0])\n",
    "b_percenterror = 100*(npla.norm(db,2)/npla.norm(b,2))\n",
    "x2, x3 = (A2**-1)*b.T, (A3**-1)*b.T\n",
    "dx2, dx3 = (A2**-1)*((b+db).T)-x2, (A3**-1)*((b+db).T)-x3\n",
    "x2_percenterror, x3_percenterror = 100*(npla.norm(dx2,2)/npla.norm(x2,2)), 100*(npla.norm(dx3,2)/npla.norm(x3,2)) \n",
    "print(\"The percentage error in b is \"+str(round(b_percenterror,3))+\"%.\")\n",
    "print(\"In the second system, this corresponds to a percentage error in x of \"\n",
    "      +str(round(x2_percenterror,3))+\"%.\")\n",
    "print(\"In the third system, this corresponds to a percentage error in x of \"\n",
    "      +str(round(x3_percenterror,3))+\"%.\")"
   ]
  },
  {
   "cell_type": "markdown",
   "metadata": {},
   "source": [
    "Which system of equations is more sensitive to small changes in $b$? How could you have guessed this from the answer to the Q3a?"
   ]
  },
  {
   "cell_type": "code",
   "execution_count": 19,
   "metadata": {},
   "outputs": [],
   "source": [
    "# Answer here\n",
    "\n",
    "# From the same error in b, system two produced an error over 200 times larger than that in system \n",
    "# three. Thus we conclude system two is more sensitive to small changes in b. This could be inferred\n",
    "# beforehand as matrix two's condition number was over 10^11 whereas system three's condition number \n",
    "# was 15."
   ]
  },
  {
   "cell_type": "markdown",
   "metadata": {},
   "source": [
    "# Question 4: eigensystems\n",
    "\n",
    "In this question we look at finding eigenvalues and eigenvectors\n",
    "\n",
    "## Q4a\n",
    "\n",
    "You may use any of NumPy's functions for this sub-question.\n",
    "\n",
    "Find the eigenvalues and eigenvectors for the below matrix. Print out the eigenvalues sorted by descending value and explicitly show that eigenvalues/eigenvector pairs satisfy $Ax = \\lambda x$."
   ]
  },
  {
   "cell_type": "code",
   "execution_count": 20,
   "metadata": {},
   "outputs": [],
   "source": [
    "A = np.matrix([[1,4,5],[4,5,4],[6,7,9]])"
   ]
  },
  {
   "cell_type": "code",
   "execution_count": 21,
   "metadata": {},
   "outputs": [
    {
     "name": "stdout",
     "output_type": "stream",
     "text": [
      "The eigenvalues, in the order which they are returned, are [15.78569318 -2.05164645  1.26595327]\n",
      "We'll refer to the entries of the above list as lambda1, lambda2, and lambda3\n",
      "The eigenvalues, in descending order, are [15.78569318  1.26595327 -2.05164645]\n",
      "\n",
      "And in no particular order, the eigenvectors are \n",
      "[[-0.39252008 -0.89589878  0.09818766]\n",
      " [-0.44424151  0.36255198 -0.77454142]\n",
      " [-0.80534308  0.25675168  0.6248558 ]]\n",
      "\n",
      "\n",
      "A*u1 is \n",
      "[[ -6.1962015 ]\n",
      " [ -7.01266016]\n",
      " [-12.71289871]]\n",
      " and lambda1*u1 is \n",
      "[[ -6.1962015 ]\n",
      " [ -7.01266016]\n",
      " [-12.71289871]]\n",
      "A*u2 is \n",
      "[[ 1.83806756]\n",
      " [-0.74382849]\n",
      " [-0.52676368]]\n",
      " and lambda2*u2 is \n",
      "[[ 1.83806756]\n",
      " [-0.74382849]\n",
      " [-0.52676368]]\n",
      "A*u3 is \n",
      "[[ 0.12430099]\n",
      " [-0.98053324]\n",
      " [ 0.79103825]]\n",
      " and lambda3*u3 is \n",
      "[[ 0.12430099]\n",
      " [-0.98053324]\n",
      " [ 0.79103825]]\n"
     ]
    }
   ],
   "source": [
    "eigensystem = npla.eig(A)\n",
    "eigenvalues, eigenvectors = eigensystem[0], eigensystem[1]\n",
    "print(\"The eigenvalues, in the order which they are returned, are \" + str(eigenvalues))\n",
    "print(\"We'll refer to the entries of the above list as lambda1, lambda2, and lambda3\")\n",
    "print(\"The eigenvalues, in descending order, are \" + str(-1*np.sort(-1*eigenvalues)) + '\\n')\n",
    "print(\"And in no particular order, the eigenvectors are \\n\"+ str(eigenvectors))\n",
    "print('\\n')\n",
    "# Unfortunately, the .eig command returns the eigenvectors as a matrix rather than a list of\n",
    "# column vectors. So I'm going to have to extract the eigenvectors from this matrix.\n",
    "u1,u2,u3 = eigenvectors[:,0], eigenvectors[:,1], eigenvectors[:,2]\n",
    "print(\"A*u1 is \\n\"+str(A*u1)+\"\\n and lambda1*u1 is \\n\"+str(eigenvalues[0]*u1))\n",
    "print(\"A*u2 is \\n\"+str(A*u2)+\"\\n and lambda2*u2 is \\n\"+str(eigenvalues[1]*u2))\n",
    "print(\"A*u3 is \\n\"+str(A*u3)+\"\\n and lambda3*u3 is \\n\"+str(eigenvalues[2]*u3))\n"
   ]
  },
  {
   "cell_type": "markdown",
   "metadata": {},
   "source": [
    "# Q4b\n",
    "\n",
    "Without using NumPy's `la.eig()` (or similar functions), find the 4 eigenvalues and eigenvectors of the following matrix. Hint: Use the power method for the max eigenvalue (given below in `MaxEigenvalue`), the power method applied to the inverse for the smallest eigenvalue, and apply Hotelling's deflation twice to find the second and third eigenvalues/eigenvectors."
   ]
  },
  {
   "cell_type": "code",
   "execution_count": 35,
   "metadata": {},
   "outputs": [],
   "source": [
    "A = np.array([[1.935052353404, 0.887037260957, 1.534235483277, 1.370691224125],\n",
    "       [0.887037260957, 0.81275989158 , 0.610238622918, 0.999150521052],\n",
    "       [1.534235483277, 0.610238622918, 1.562260333538, 1.007843062517],\n",
    "       [1.370691224125, 0.999150521052, 1.007843062517, 1.813258814483]])"
   ]
  },
  {
   "cell_type": "code",
   "execution_count": 90,
   "metadata": {},
   "outputs": [],
   "source": [
    "def MaxEig(A, err):\n",
    "    (m,n) = A.shape\n",
    "    if(m != n):\n",
    "        print(\"Matrix must be square\")\n",
    "        return \n",
    "    if (npArrayType(A)=='ndarray'):\n",
    "        x = np.random.rand(m)\n",
    "        lam = 0.1\n",
    "        lamprev = 1\n",
    "        while np.abs(1-lam/lamprev) > err:\n",
    "            p = np.dot(A,x)\n",
    "            lamprev = lam\n",
    "            lam = np.max(p)\n",
    "            x = p/lam\n",
    "        x = x/npla.norm(x)\n",
    "        return (lam,x)\n",
    "    elif (npArrayType(A)=='matrix'):    #The same code as before but with some slight differences\n",
    "        x = np.matrix(np.random.rand(m)).T   #To accomodate the np.matrix type.\n",
    "        lam = 0.1\n",
    "        lamprev = 1\n",
    "        while np.abs(1-lam/lamprev) > err:\n",
    "            p = A*x\n",
    "            lamprev = lam\n",
    "            lam = np.max(p)\n",
    "            x = p/lam\n",
    "        x = x/npla.norm(x)\n",
    "        return (lam,x)\n",
    "\n",
    "def Deflate(A, err):\n",
    "    (m,n) = A.shape\n",
    "    if(m != n):\n",
    "        print(\"Matrix must be square\")\n",
    "        return\n",
    "    eigpair = MaxEig(A,err)\n",
    "    eigval, eigvec = eigpair[0],np.matrix(eigpair[1])\n",
    "    if (npArrayType(A)=='ndarray'):\n",
    "        return np.array(np.matrix(A) - eigval*(eigvec.T*eigvec))\n",
    "    elif(npArrayType(A)=='matrix'):\n",
    "        return (A - eigval*(eigvec*eigvec.T))\n",
    "Ainv = npla.inv(A)         \n",
    "A_EVal1, A_EVec1 = MaxEig(A,10**-9)[0], MaxEig(A,10**-9)[1]  \n",
    "A_EVal4, A_EVec4 = 1/MaxEig(Ainv,10**-9)[0], MaxEig(Ainv,10**-9)[1]\n",
    "B = Deflate(A, 10**-9)\n",
    "Bprime=Deflate(Ainv,10**-9)\n",
    "A_EVal2, A_EVec2 = MaxEig(B,10**-9)[0], MaxEig(B,10**-9)[1]\n",
    "A_EVal3, A_EVec3 = 1/MaxEig(Bprime,10**-9)[0], MaxEig(Bprime,10**-9)[1]"
   ]
  },
  {
   "cell_type": "code",
   "execution_count": 93,
   "metadata": {},
   "outputs": [
    {
     "name": "stdout",
     "output_type": "stream",
     "text": [
      "The largest eigenvalue of A is 4.91480442 with corresponding eigenvector [0.59947641 0.33318806 0.49528112 0.53320761]\n",
      "The second largest eigenvalue of A is 0.85058153 with corresponding eigenvector [ 0.30724064 -0.3894447   0.58292464 -0.64353313]\n",
      "The second smallest eigenvalue of A is 0.21512836 with corresponding eigenvector [ 0.3811686   0.67389895 -0.34000479 -0.53382343]\n",
      "The smallest eigenvalue of A is 0.14281707 with corresponding eigenvector [ 0.63319959 -0.53214542 -0.54707607  0.12879173]\n"
     ]
    }
   ],
   "source": [
    "print(\"The largest eigenvalue of A is \" + str(round(A_EVal1,8)) \n",
    "      + \" with corresponding eigenvector \" + str(A_EVec1))\n",
    "\n",
    "print(\"The second largest eigenvalue of A is \" + str(round(A_EVal2,8))\n",
    "     + \" with corresponding eigenvector \" + str(A_EVec2))\n",
    "\n",
    "print(\"The second smallest eigenvalue of A is \" + str(round(A_EVal3,8))\n",
    "     + \" with corresponding eigenvector \" + str(A_EVec3))\n",
    "\n",
    "print(\"The smallest eigenvalue of A is \" + str(round(A_EVal4,8))\n",
    "     + \" with corresponding eigenvector \" + str(A_EVec4))"
   ]
  },
  {
   "cell_type": "markdown",
   "metadata": {},
   "source": [
    "Check your answers against Numpy's results from `la.eig(A)`"
   ]
  },
  {
   "cell_type": "code",
   "execution_count": 94,
   "metadata": {},
   "outputs": [
    {
     "name": "stdout",
     "output_type": "stream",
     "text": [
      "(array([4.91480442, 0.85058153, 0.14281707, 0.21512836]), array([[ 0.59947641,  0.30724064, -0.63319959, -0.3811686 ],\n",
      "       [ 0.33318806, -0.3894447 ,  0.53214542, -0.67389895],\n",
      "       [ 0.49528112,  0.58292464,  0.54707607,  0.34000478],\n",
      "       [ 0.53320761, -0.64353313, -0.12879172,  0.53382343]]))\n"
     ]
    }
   ],
   "source": [
    "print(str(npla.eig(A)))"
   ]
  },
  {
   "cell_type": "markdown",
   "metadata": {},
   "source": [
    "As we can see, our power method combined with the deflation does a pretty good job approximating the eigenvalues of A but does not do so well estimating the eigenvectors. This is likely due to accumulation of errors when combining the power method, inverses, and the deflation. While this most certainly can be improved by reducing the 'err' argument in our commands, it might be better to use another algorithm entirely, such as the QR method or Householder's method."
   ]
  },
  {
   "cell_type": "code",
   "execution_count": null,
   "metadata": {},
   "outputs": [],
   "source": []
  }
 ],
 "metadata": {
  "kernelspec": {
   "display_name": "Python 3",
   "language": "python",
   "name": "python3"
  },
  "language_info": {
   "codemirror_mode": {
    "name": "ipython",
    "version": 3
   },
   "file_extension": ".py",
   "mimetype": "text/x-python",
   "name": "python",
   "nbconvert_exporter": "python",
   "pygments_lexer": "ipython3",
   "version": "3.7.4"
  }
 },
 "nbformat": 4,
 "nbformat_minor": 2
}
