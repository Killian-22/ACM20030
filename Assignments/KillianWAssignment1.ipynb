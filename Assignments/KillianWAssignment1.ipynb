{
 "cells": [
  {
   "cell_type": "code",
   "execution_count": 2,
   "metadata": {},
   "outputs": [],
   "source": [
    "#Importing the needed libraries\n",
    "import math\n",
    "import numpy as np\n",
    "import matplotlib as mpl\n",
    "import matplotlib.pyplot as plt\n",
    "plt.style.use('dark_background')"
   ]
  },
  {
   "cell_type": "code",
   "execution_count": 3,
   "metadata": {},
   "outputs": [
    {
     "name": "stdout",
     "output_type": "stream",
     "text": [
      "7.810249675906654\n",
      "5.0990195135927845\n",
      "sin(1) = 0.841\n"
     ]
    }
   ],
   "source": [
    "#Problem 1\n",
    "#Part A\n",
    "def VectorLength(x,y):\n",
    "    return np.sqrt(x**2 + y**2)\n",
    "#Part B\n",
    "print(VectorLength(5,6))\n",
    "print(VectorLength(-1,5))\n",
    "#Part C\n",
    "print(\"sin(1) = \" + str(round(np.sin(1),3))) #Alternative way of formatting to 3 decimal places"
   ]
  },
  {
   "cell_type": "code",
   "execution_count": 4,
   "metadata": {},
   "outputs": [
    {
     "name": "stdout",
     "output_type": "stream",
     "text": [
      "1 is not prime\n",
      "2 is prime\n",
      "3 is prime\n",
      "4 is not prime\n",
      "5 is prime\n",
      "6 is not prime\n",
      "7 is prime\n",
      "8 is not prime\n",
      "9 is not prime\n",
      "10 is not prime\n",
      "\n",
      "The number of primes less than 1000 is 168\n",
      "\n",
      "Using the PrimeCount function, the number of primes less than 1,000 is 168\n",
      "Using the PrimeCount function, the number of primes less than 10,000 is 1229\n"
     ]
    },
    {
     "data": {
      "text/plain": [
       "Text(0, 0.5, 'Pi(x)')"
      ]
     },
     "execution_count": 4,
     "metadata": {},
     "output_type": "execute_result"
    },
    {
     "data": {
      "image/png": "[encoded data removed]",
      "text/plain": [
       "<Figure size 432x288 with 1 Axes>"
      ]
     },
     "metadata": {},
     "output_type": "display_data"
    }
   ],
   "source": [
    "#Problem 2\n",
    "def IsPrime(n):  #Checks if a number n is prime\n",
    "    if (n==1):   #Part B\n",
    "        return False\n",
    "    if (n<4):\n",
    "        return True\n",
    "    for k in range(2,math.floor(np.sqrt(n)+1)):\n",
    "        if (n%k == 0):\n",
    "            return False\n",
    "    return True\n",
    "\n",
    "#Part A\n",
    "for i in range(1,11):     #Demonstrating that the function IsPrime works correctly for 10 examples\n",
    "    if (IsPrime(i) == False):\n",
    "        print(str(i) + \" is not prime\")\n",
    "    else:\n",
    "        print(str(i) + \" is prime\")\n",
    "\n",
    "#Part E\n",
    "primes_less_than_1000 = 0\n",
    "for i in range(1,1001):\n",
    "    if(IsPrime(i)==True):\n",
    "        primes_less_than_1000 += 1\n",
    "print(\"\\nThe number of primes less than 1000 is \" + str(primes_less_than_1000))\n",
    "\n",
    "#Part F\n",
    "def PrimeCount(N):\n",
    "    primes_less_than_N = 0\n",
    "    for i in range(1,N+1):\n",
    "        if(IsPrime(i)==True):\n",
    "            primes_less_than_N += 1\n",
    "    return primes_less_than_N\n",
    "print(\"\\nUsing the PrimeCount function, the number of primes less than 1,000 is \"+ str(PrimeCount(1000)))\n",
    "print(\"Using the PrimeCount function, the number of primes less than 10,000 is \"+ str(PrimeCount(10000)))\n",
    "\n",
    "#Part G\n",
    "x = np.arange(0,40,1)\n",
    "Pi = np.zeros(40)\n",
    "i=0\n",
    "while i < np.size(Pi):\n",
    "    Pi[i] = PrimeCount(i)\n",
    "    i+=1\n",
    "plt.plot(x, Pi, 'ro')\n",
    "plt.xlabel(\"x\")\n",
    "plt.ylabel(\"Pi(x)\")"
   ]
  }
 ],
 "metadata": {
  "kernelspec": {
   "display_name": "Python 3",
   "language": "python",
   "name": "python3"
  },
  "language_info": {
   "codemirror_mode": {
    "name": "ipython",
    "version": 3
   },
   "file_extension": ".py",
   "mimetype": "text/x-python",
   "name": "python",
   "nbconvert_exporter": "python",
   "pygments_lexer": "ipython3",
   "version": "3.7.4"
  }
 },
 "nbformat": 4,
 "nbformat_minor": 2
}
