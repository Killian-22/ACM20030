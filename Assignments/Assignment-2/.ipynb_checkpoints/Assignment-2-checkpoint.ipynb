{
 "cells": [
  {
   "cell_type": "markdown",
   "metadata": {},
   "source": [
    "# Assignment 2\n",
    "This is due by 5pm on Friday 21st February. The mark breakdown is:\n",
    "\n",
    "- Q0 [1 marks]\n",
    "- Q1 [10 marks]\n",
    "- Q2 [10 marks]\n",
    "- Q3 [9 marks]\n",
    "\n",
    "It is adviseable that you tidy up your notebook before submitting the final version. Also, remember to add comments to your code."
   ]
  },
  {
   "cell_type": "markdown",
   "metadata": {},
   "source": [
    "# Question 0\n",
    "\n",
    "You should have saved this notebook to your ACM20030-Assignments folder. Now:\n",
    "- commit the notebook to your local repository\n",
    "- push the changes to the GitHub"
   ]
  },
  {
   "cell_type": "code",
   "execution_count": 2,
   "metadata": {},
   "outputs": [],
   "source": [
    "import numpy as np\n",
    "import matplotlib.pyplot as plt\n",
    "\n",
    "# The below commands make the font and image size bigger\n",
    "plt.rcParams.update({'font.size': 22})\n",
    "plt.rcParams[\"figure.figsize\"] = (15,10)"
   ]
  },
  {
   "cell_type": "markdown",
   "metadata": {},
   "source": [
    "# Question 1: Bisection method"
   ]
  },
  {
   "cell_type": "markdown",
   "metadata": {},
   "source": [
    "### Q. 1a\n",
    "Define a function for the quintic $f(x) = x^5+12 x^4-15 x^3-386 x^2-180 x+1800$ and plot it in the range $x=-11\\dots6$"
   ]
  },
  {
   "cell_type": "code",
   "execution_count": 3,
   "metadata": {},
   "outputs": [
    {
     "data": {
      "image/png": "[encoded data removed]",
      "text/plain": [
       "<Figure size 432x288 with 1 Axes>"
      ]
     },
     "metadata": {},
     "output_type": "display_data"
    }
   ],
   "source": [
    "plt.style.use('seaborn-white')\n",
    "def f(x):\n",
    "    return(x**5 + 12*(x**4) - 15*(x**3) - 386*(x**2) - 180*x + 1800)\n",
    "x = np.arange(-11,6.01,0.1)\n",
    "y = f(x)\n",
    "plt.plot(x,y)\n",
    "plt.xlabel(\"x\")\n",
    "plt.ylabel(\"f(x)\")\n",
    "plt.grid(True, 'both', 'both', linestyle='--')\n",
    "plt.axhline(linewidth=1, color='black')\n",
    "plt.show()"
   ]
  },
  {
   "cell_type": "markdown",
   "metadata": {},
   "source": [
    "### Q. 1b\n",
    "Using the plot, pick values of $a$ and $b$ such that $f(a) < 0$ and $f(b) > 0$ and the function has a **single** root in the region $(a,b)$. Assign variables called a and b to these values and print the values of $f(a)$ and $f(b)$."
   ]
  },
  {
   "cell_type": "code",
   "execution_count": 4,
   "metadata": {},
   "outputs": [
    {
     "name": "stdout",
     "output_type": "stream",
     "text": [
      "The value of a is -5.0\n",
      "The value of b is -1.0\n"
     ]
    }
   ],
   "source": [
    "a = -5.0\n",
    "b = -1.0\n",
    "print(\"The value of a is \" + str(a))\n",
    "print(\"The value of b is \" + str(b))"
   ]
  },
  {
   "cell_type": "markdown",
   "metadata": {},
   "source": [
    "Use the following FindRootBisection method to find the root to within a precision of $10^{-12}$"
   ]
  },
  {
   "cell_type": "code",
   "execution_count": 5,
   "metadata": {},
   "outputs": [],
   "source": [
    "# This function only works when a < b and f(a) < 0 < f(b)\n",
    "def FindRootBisection(f, a, b, tol, printSteps=False):\n",
    "    left = a\n",
    "    right = b\n",
    "    while right-left > tol:\n",
    "        midpoint = (left+right)/2\n",
    "        if(f(midpoint) < 0):\n",
    "            left = midpoint\n",
    "        else:\n",
    "            right = midpoint\n",
    "        if(printSteps == True):\n",
    "            print(midpoint)\n",
    "    return midpoint"
   ]
  },
  {
   "cell_type": "code",
   "execution_count": 6,
   "metadata": {},
   "outputs": [
    {
     "data": {
      "text/plain": [
       "-3.0000000000009095"
      ]
     },
     "execution_count": 6,
     "metadata": {},
     "output_type": "execute_result"
    }
   ],
   "source": [
    "FindRootBisection(f, a, b, 1e-12)"
   ]
  },
  {
   "cell_type": "markdown",
   "metadata": {},
   "source": [
    "### Q. 1c\n",
    "As the comment on the above FindRootBisection( ) function says it only works when $a<b$ and $f(a) < 0 < f(b)$. Create a new function that: \n",
    " - **also** works when $f(a) > 0 > f(b)$. \n",
    " - Checks that $\\text{sign}(f(a)) \\neq \\text{sign}(f(b))$. If not the function should return \"Cannot use bisection method as sign(f(a)) = sign(f(b)) \", where $a$ and $b$ have been replaced by their values\n",
    " \n",
    "Call your new function FindRootBisectionImproved( ).  \n",
    "Useful function: np.sign(x) will return sign(x)\n",
    "\n",
    "Check your new function by:\n",
    " - finding the root between $x = 2.5$ and $x=6$\n",
    " - attempting to find a root between $x=6$ and $x=8$ (there is no root in this region)"
   ]
  },
  {
   "cell_type": "code",
   "execution_count": 7,
   "metadata": {},
   "outputs": [
    {
     "name": "stdout",
     "output_type": "stream",
     "text": [
      "f has a root at x=4.999999999999432\n",
      "Cannot use bisection method as sign(f(6) = sign(f(8)) \n"
     ]
    }
   ],
   "source": [
    "def FindRootBisectionImproved(f,a,b,tol,printSteps=False):\n",
    "    if (np.sign(f(a))==np.sign(f(b))):\n",
    "        return(\"Cannot use bisection method as sign(f(\"+str(a)+\") = sign(f(\"+str(b)+\")) \")\n",
    "    L = a\n",
    "    R = b\n",
    "    mid = 0\n",
    "    while (abs(R-L)>tol):\n",
    "        mid = (R+L)/2\n",
    "        if (mid==0):\n",
    "            return mid\n",
    "        if (f(mid)<0):\n",
    "            L = mid\n",
    "        else:\n",
    "            R = mid\n",
    "        if(printSteps):\n",
    "            print(mid)\n",
    "    return mid\n",
    "print(\"f has a root at x=\" + str(FindRootBisectionImproved(f,2.5,6,1e-12)))        \n",
    "print(str(FindRootBisectionImproved(f,6,8,1e-12)))    "
   ]
  },
  {
   "cell_type": "markdown",
   "metadata": {},
   "source": [
    "**Commit this question to your git repository and push the changes to GitHub**"
   ]
  },
  {
   "cell_type": "markdown",
   "metadata": {},
   "source": [
    "## Question 2: Newton-Raphson method"
   ]
  },
  {
   "cell_type": "markdown",
   "metadata": {},
   "source": [
    "### Q. 2a\n",
    " - Define a function $p(x) = \\sinh^{-1} x$. Calculate its derivative and define it as $dp(x) = \\dots$\n",
    " - Plot the function between $x=-11$ and $x=6$. Label the plot axes and use a grid."
   ]
  },
  {
   "cell_type": "code",
   "execution_count": 8,
   "metadata": {},
   "outputs": [
    {
     "data": {
      "image/png": "[encoded data removed]",
      "text/plain": [
       "<Figure size 432x288 with 1 Axes>"
      ]
     },
     "metadata": {},
     "output_type": "display_data"
    }
   ],
   "source": [
    "def p(x):\n",
    "    return np.arcsinh(x)\n",
    "def dp(x):\n",
    "    return 1/np.sqrt(x**2 + 1)\n",
    "x = np.arange(-11,6.01,0.1)\n",
    "y = p(x)\n",
    "plt.plot(x,y)\n",
    "plt.xlabel(\"x\")\n",
    "plt.ylabel(\"p(x)\")\n",
    "plt.grid(True, 'both', 'both', linestyle='--')\n",
    "plt.axhline(linewidth=1, color='black')\n",
    "plt.show()"
   ]
  },
  {
   "cell_type": "markdown",
   "metadata": {},
   "source": [
    "### Q. 2b\n",
    " - Starting with a value near the root use the below Newton-Raphson code to find the root"
   ]
  },
  {
   "cell_type": "code",
   "execution_count": 9,
   "metadata": {},
   "outputs": [],
   "source": [
    "def FindRootNewtonRaphson(f, df, x0, tol, printSteps=False):\n",
    "    f0 = f(x0)\n",
    "    count = 1\n",
    "    while np.abs(f0) > tol and count < 20:\n",
    "        f0 = f(x0)\n",
    "        x0 = x0 - f0/df(x0)\n",
    "        count += 1\n",
    "        if(printSteps):\n",
    "            print(\"x_%d = %.14lf\" % (count, x0))\n",
    "    return x0"
   ]
  },
  {
   "cell_type": "code",
   "execution_count": 10,
   "metadata": {},
   "outputs": [
    {
     "name": "stdout",
     "output_type": "stream",
     "text": [
      "The function p has a root at x=0.0\n"
     ]
    }
   ],
   "source": [
    "print(\"The function p has a root at x=\" + str(FindRootNewtonRaphson(p,dp,0.5,1e-12)))"
   ]
  },
  {
   "cell_type": "markdown",
   "metadata": {},
   "source": [
    "### Q. 2c\n",
    "As we discussed in the lectures, the Newton-Raphson method (usually) converges quadradically if an initial guess is given that is sufficiently close to the root. If the guess is too far from the root the method can diverge. In this question we will find the critical value between converging and diverging where the method oscilliates with period 2.\n",
    "\n",
    "If we define $F(x) = x - p(x)/p'(x)$, then a period-2 orbit will occur when $F(F(x)) = x$. In general this will be a complicated function so it might be very difficult to find the solution analytically. Instead, we can write this equation as $F(F(x)) - x = 0$, so the value of $x$ we want is the root.\n",
    "\n",
    "- Define a function F(x)\n",
    "- Define a function F2(x) which returns $F(F(x)) - x$\n",
    "- Plot F2(x) with labels and a grid"
   ]
  },
  {
   "cell_type": "code",
   "execution_count": 11,
   "metadata": {},
   "outputs": [
    {
     "data": {
      "image/png": "[encoded data removed]",
      "text/plain": [
       "<Figure size 432x288 with 1 Axes>"
      ]
     },
     "metadata": {},
     "output_type": "display_data"
    }
   ],
   "source": [
    "def F(x):\n",
    "    return(x-(p(x)/dp(x)))\n",
    "def F2(x):\n",
    "    return(F(F(x))-x)\n",
    "x = np.arange(-10,10.01,0.01)\n",
    "y = F2(x)\n",
    "plt.plot(x,y)\n",
    "plt.xlabel(\"x\")\n",
    "plt.ylabel(\"F2(x)\")\n",
    "plt.grid(True, 'both', 'both', linestyle='--')\n",
    "plt.axhline(linewidth=1, color='black')\n",
    "plt.show()"
   ]
  },
  {
   "cell_type": "markdown",
   "metadata": {},
   "source": [
    "- We want to find a root with $x \\neq 0$. As we don't have easy access to the derivative of the function $F2(x)$ use the bisection method function from above to find a root of $F2(x)$ to a precision of $10^{-15}$. Use the plot from the previous part to bracket a root. **Assign** the vaue of the root of the variable 'x2' and also print(x2).\n",
    "- Use the Newton-Raphson method with the function $p(x)$ and the initial guess x2. Set the final argument to True to print out the steps in the method takes. You should see that they oscillate between two values and the algorithm does not converge."
   ]
  },
  {
   "cell_type": "code",
   "execution_count": 12,
   "metadata": {},
   "outputs": [
    {
     "name": "stdout",
     "output_type": "stream",
     "text": [
      "F2's positive root is at x=3.319826386395148\n",
      "x_2 = -3.31982638639515\n",
      "x_3 = 3.31982638639515\n",
      "x_4 = -3.31982638639514\n",
      "x_5 = 3.31982638639514\n",
      "x_6 = -3.31982638639513\n",
      "x_7 = 3.31982638639511\n",
      "x_8 = -3.31982638639507\n",
      "x_9 = 3.31982638639501\n",
      "x_10 = -3.31982638639490\n",
      "x_11 = 3.31982638639469\n",
      "x_12 = -3.31982638639431\n",
      "x_13 = 3.31982638639361\n",
      "x_14 = -3.31982638639232\n",
      "x_15 = 3.31982638638996\n",
      "x_16 = -3.31982638638564\n",
      "x_17 = 3.31982638637771\n",
      "x_18 = -3.31982638636317\n",
      "x_19 = 3.31982638633652\n",
      "x_20 = -3.31982638628765\n"
     ]
    },
    {
     "data": {
      "text/plain": [
       "-3.3198263862876463"
      ]
     },
     "execution_count": 12,
     "metadata": {},
     "output_type": "execute_result"
    }
   ],
   "source": [
    "x2 = FindRootBisectionImproved(F2,2.5,5,1e-15)\n",
    "print(\"F2's positive root is at x=\" + str(x2))\n",
    "FindRootNewtonRaphson(p,dp,x2,1e-15,printSteps=True)"
   ]
  },
  {
   "cell_type": "markdown",
   "metadata": {},
   "source": [
    "By slightly perturbing the initial guess we can get the method to converge or diverge. Try:\n",
    " - adding $10^{-3}$ to the initial guess. Does the method converge or diverge?\n",
    " - subtracting $10^{-3}$ from the initial guess. Does the method converge or diverge?\n",
    " \n",
    "In both cases set the final argument to 'True' to get the function to print the steps the method is taking"
   ]
  },
  {
   "cell_type": "code",
   "execution_count": 13,
   "metadata": {},
   "outputs": [
    {
     "name": "stdout",
     "output_type": "stream",
     "text": [
      "x_2 = -3.32166017534519\n",
      "x_3 = 3.32318941448714\n",
      "x_4 = -3.32599474945762\n",
      "x_5 = 3.33114299306826\n",
      "x_6 = -3.34059743357328\n",
      "x_7 = 3.35798209341778\n",
      "x_8 = -3.39002330308560\n",
      "x_9 = 3.44932929068383\n",
      "x_10 = -3.55995186656866\n",
      "x_11 = 3.76918950842467\n",
      "x_12 = -4.17488530024739\n",
      "x_13 = 4.99611226214762\n",
      "x_14 = -6.78235424034431\n",
      "x_15 = 11.13059074590426\n",
      "x_16 = -23.56748729013745\n",
      "x_17 = 67.33071923384574\n",
      "x_18 = -262.81601050143900\n",
      "x_19 = 1383.63440311495151\n",
      "x_20 = -9582.52377424232873\n",
      "\n",
      "\n",
      "x_2 = -3.31799291955419\n",
      "x_3 = 3.31646503192368\n",
      "x_4 = -3.31366473335724\n",
      "x_5 = 3.30853432591227\n",
      "x_6 = -3.29914150942781\n",
      "x_7 = 3.28196707676460\n",
      "x_8 = -3.25063825727736\n",
      "x_9 = 3.19373767283546\n",
      "x_10 = -3.09122130707522\n",
      "x_11 = 2.90927347399593\n",
      "x_12 = -2.59540431535248\n",
      "x_13 = 2.08314783302489\n",
      "x_14 = -1.33723662270818\n",
      "x_15 = 0.50112317029151\n",
      "x_16 = -0.03825335712818\n",
      "x_17 = 0.00001864804651\n",
      "x_18 = -0.00000000000000\n",
      "x_19 = 0.00000000000000\n",
      "x_20 = 0.00000000000000\n"
     ]
    },
    {
     "data": {
      "text/plain": [
       "0.0"
      ]
     },
     "execution_count": 13,
     "metadata": {},
     "output_type": "execute_result"
    }
   ],
   "source": [
    "FindRootNewtonRaphson(p,dp,x2+1e-3,1e-15,printSteps=True) #going slightly above the boundary guess causes the algorithm to diverge\n",
    "print(\"\\n\")\n",
    "FindRootNewtonRaphson(p,dp,x2-1e-3,1e-15,printSteps=True) #going slightly below the boundary guess causes the algorithm to converge to the correct root of x=0."
   ]
  },
  {
   "cell_type": "markdown",
   "metadata": {},
   "source": [
    "**Commit this question to your git repository and push the changes to GitHub**"
   ]
  },
  {
   "cell_type": "markdown",
   "metadata": {},
   "source": [
    "## Question 3: Slow convergence of the Newton-Raphson method at repeated roots\n",
    "The Newton-Raphson method usual converges quadratically but it will converge more slowly at repeated roots. In this question we will look at an example of this."
   ]
  },
  {
   "cell_type": "markdown",
   "metadata": {},
   "source": [
    "Define the function $g(x) = (x-2)^2(x+1)$, and also define its derivative $g'(x)$. Plot the function from $x=-2\\dots3$"
   ]
  },
  {
   "cell_type": "code",
   "execution_count": 14,
   "metadata": {},
   "outputs": [
    {
     "data": {
      "image/png": "[encoded data removed]",
      "text/plain": [
       "<Figure size 432x288 with 1 Axes>"
      ]
     },
     "metadata": {},
     "output_type": "display_data"
    }
   ],
   "source": [
    "def g(x):\n",
    "    return (((x-2)**2)*(x+1))\n",
    "def gprime(x):\n",
    "    return(3*x*(x-2))\n",
    "x = np.arange(-2,3.01,0.01)\n",
    "y = g(x)\n",
    "plt.plot(x,y)\n",
    "plt.xlabel(\"x\")\n",
    "plt.ylabel(\"g(x)\")\n",
    "plt.grid(True, 'both', 'both', linestyle='--')\n",
    "plt.axhline(linewidth=1, color='black')\n",
    "plt.show()"
   ]
  },
  {
   "cell_type": "markdown",
   "metadata": {},
   "source": [
    "Run the FindRootNewtonRaphson function with the final (optional) argument set to True to see the steps the algorithm takes. Run it with:\n",
    " - the initial value of $x_0 = 3$\n",
    " - the initial value of $x_0 = -2$"
   ]
  },
  {
   "cell_type": "code",
   "execution_count": 15,
   "metadata": {},
   "outputs": [
    {
     "name": "stdout",
     "output_type": "stream",
     "text": [
      "x_2 = 2.55555555555556\n",
      "x_3 = 2.29790660225443\n",
      "x_4 = 2.15539019921377\n",
      "x_5 = 2.07956221041436\n",
      "x_6 = 2.04028843517102\n",
      "x_7 = 2.02027680978673\n",
      "x_8 = 2.01017232343142\n",
      "x_9 = 2.00509474109328\n",
      "x_10 = 2.00254952808283\n",
      "x_11 = 2.00127530502624\n",
      "x_12 = 2.00063778796033\n",
      "x_13 = 2.00031892786715\n",
      "x_14 = 2.00015947240847\n",
      "x_15 = 2.00007973832335\n",
      "x_16 = 2.00003986969151\n",
      "x_17 = 2.00001993497822\n",
      "x_18 = 2.00000996752222\n",
      "x_19 = 2.00000498376939\n",
      "x_20 = 2.00000249188677\n",
      "\n",
      "\n",
      "x_2 = -1.33333333333333\n",
      "x_3 = -1.05555555555556\n",
      "x_4 = -1.00194931773879\n",
      "x_5 = -1.00000252829797\n",
      "x_6 = -1.00000000000426\n",
      "x_7 = -1.00000000000000\n",
      "x_8 = -1.00000000000000\n"
     ]
    },
    {
     "data": {
      "text/plain": [
       "-1.0"
      ]
     },
     "execution_count": 15,
     "metadata": {},
     "output_type": "execute_result"
    }
   ],
   "source": [
    "FindRootNewtonRaphson(g,gprime,3,1e-15,printSteps=True)\n",
    "print(\"\\n\")\n",
    "FindRootNewtonRaphson(g,gprime,-2,1e-15,printSteps=True)"
   ]
  },
  {
   "cell_type": "markdown",
   "metadata": {},
   "source": [
    "What do you notice about the convergence rates in these two cases? Let's examine it more carefully. The function below returns the individual steps of the Newton-Raphson algorithm."
   ]
  },
  {
   "cell_type": "code",
   "execution_count": 16,
   "metadata": {},
   "outputs": [],
   "source": [
    "def FindRootNewtonRaphsonSteps(f, df, x0, tol):\n",
    "    steps = np.array([x0])\n",
    "    f0 = f(x0)\n",
    "    count = 1\n",
    "    while np.abs(f0) > tol:\n",
    "        f0 = f(x0)\n",
    "        x0 = x0 - f0/df(x0)\n",
    "        steps = np.append(steps, x0)\n",
    "        count += 1\n",
    "    return steps"
   ]
  },
  {
   "cell_type": "markdown",
   "metadata": {},
   "source": [
    "Using the above function:\n",
    "- compute the steps for the function $g(x)$ with  $x_0 = 3$. Assign the result to a variable.\n",
    "- compute the steps for the function $g(x)$ with  $x_0 = -2$. Assign the result to a different variable."
   ]
  },
  {
   "cell_type": "code",
   "execution_count": 17,
   "metadata": {},
   "outputs": [],
   "source": [
    "steps1 = FindRootNewtonRaphsonSteps(g, gprime, 3, 1e-15)\n",
    "steps2 = FindRootNewtonRaphsonSteps(g, gprime, -2, 1e-15)"
   ]
  },
  {
   "cell_type": "markdown",
   "metadata": {},
   "source": [
    "Plot the absolute difference between the steps and the root, i.e., $|x_n - x_*|$, on a log scale."
   ]
  },
  {
   "cell_type": "code",
   "execution_count": 29,
   "metadata": {},
   "outputs": [
    {
     "data": {
      "image/png": "[encoded data removed]",
      "text/plain": [
       "<Figure size 432x288 with 1 Axes>"
      ]
     },
     "metadata": {},
     "output_type": "display_data"
    }
   ],
   "source": [
    "rootdifflog1 = abs(steps1-2)\n",
    "x = np.arange(0,len(steps1),1)\n",
    "plt.plot(x,rootdifflog1, label='Initial guess x = 3')\n",
    "plt.xlabel(\"steps\")\n",
    "plt.ylabel(\"distance from root\")\n",
    "plt.yscale('log')\n",
    "plt.grid(True, 'both', 'both', linestyle='--')\n",
    "plt.axhline(linewidth=1, color='black')\n",
    "rootdifflog2 = abs(-1-steps2)\n",
    "x = np.arange(0,len(steps2),1)\n",
    "plt.plot(x,rootdifflog2, label='Initial guess x = -2')\n",
    "plt.yscale('log')\n",
    "plt.legend()\n",
    "plt.show()"
   ]
  },
  {
   "cell_type": "markdown",
   "metadata": {},
   "source": [
    "You should find the difference for the repeated root looks linear on the log-scale, which is the same as we saw for the bisection method. This (correctly) suggests that for repeated roots the Newton-Raphson converges linearly (rather than quadratically)"
   ]
  },
  {
   "cell_type": "markdown",
   "metadata": {},
   "source": [
    "**Commit this question to your git repository and push the changes to GitHub**"
   ]
  },
  {
   "cell_type": "markdown",
   "metadata": {},
   "source": [
    "## Submitting the assignment\n",
    "\n",
    "Submit the assignment the same way you did with the first one.\n",
    "\n",
    "To submit your assignment you should zip the ACM20030-Assignments folder. Rename the zip file ACM20030-Assignments2-STUDENTNUMBER.zip where STUDENTNUMBER is your student number. Upload the zip file to BrightSpace."
   ]
  },
  {
   "cell_type": "code",
   "execution_count": null,
   "metadata": {},
   "outputs": [],
   "source": []
  }
 ],
 "metadata": {
  "kernelspec": {
   "display_name": "Python 3",
   "language": "python",
   "name": "python3"
  },
  "language_info": {
   "codemirror_mode": {
    "name": "ipython",
    "version": 3
   },
   "file_extension": ".py",
   "mimetype": "text/x-python",
   "name": "python",
   "nbconvert_exporter": "python",
   "pygments_lexer": "ipython3",
   "version": "3.7.4"
  }
 },
 "nbformat": 4,
 "nbformat_minor": 2
}
